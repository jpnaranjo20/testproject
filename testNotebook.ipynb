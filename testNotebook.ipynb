{
 "metadata": {
  "language_info": {
   "codemirror_mode": {
    "name": "ipython",
    "version": 3
   },
   "file_extension": ".py",
   "mimetype": "text/x-python",
   "name": "python",
   "nbconvert_exporter": "python",
   "pygments_lexer": "ipython3",
   "version": "3.8.5"
  },
  "orig_nbformat": 2,
  "kernelspec": {
   "name": "python385jvsc74a57bd0b51aee39a9bf6411ca22e290371bcc8da2d664f21cb2f0026262689061f5b045",
   "display_name": "Python 3.8.5 32-bit"
  }
 },
 "nbformat": 4,
 "nbformat_minor": 2,
 "cells": [
  {
   "source": [
    "import numpy as np\n",
    "import matplotlib.pyplot as plt\n",
    "import pandas as pd"
   ],
   "cell_type": "code",
   "metadata": {},
   "execution_count": null,
   "outputs": []
  },
  {
   "cell_type": "code",
   "execution_count": null,
   "metadata": {},
   "outputs": [],
   "source": [
    "x = np.linspace(0,20,1000)\n",
    "y = np.sin(x)\n",
    "plt.plot(x,y)\n",
    "plt.grid()\n",
    "plt.title(\"$sin(x)$\")\n",
    "plt.xlabel('x')\n",
    "plt.ylabel('y')\n",
    "\n",
    "plt.scatter(np.pi, 0, c='blue')\n",
    "plt.scatter(2*np.pi, 0, c='blue')\n",
    "plt.scatter(3*np.pi, 0, c='blue')\n",
    "plt.scatter(4*np.pi, 0, c='blue')\n",
    "plt.scatter(5*np.pi, 0, c='blue')\n",
    "\n",
    "plt.annotate(\"$\\pi$\", (np.pi,0), textcoords=\"offset points\", xytext =(8,-10),ha=\"center\")\n",
    "\n",
    "plt.annotate(\"$2\\pi$\", (2*np.pi,0), textcoords=\"offset points\", xytext =(8,-10),ha=\"center\")\n",
    "\n",
    "plt.annotate(\"$3\\pi$\", (3*np.pi,0), textcoords=\"offset points\", xytext =(8,-10),ha=\"center\")\n",
    "\n",
    "plt.annotate(\"$4\\pi$\", (4*np.pi,0), textcoords=\"offset points\", xytext =(8,-10),ha=\"center\")\n",
    "\n",
    "plt.annotate(\"$5\\pi$\", (5*np.pi,0), textcoords=\"offset points\", xytext =(8,-10),ha=\"center\")"
   ]
  },
  {
   "cell_type": "code",
   "execution_count": null,
   "metadata": {},
   "outputs": [],
   "source": [
    "x = np.linspace(0,10,1000)\n",
    "y = np.cos(x)\n",
    "\n",
    "plt.plot(x,y)\n",
    "plt.title(\"$cos(x)$\")\n",
    "plt.xlabel(\"x\")\n",
    "plt.ylabel(\"y\")\n",
    "plt.grid()\n",
    "\n",
    "plt.savefig('cos.png',facecolor='w')"
   ]
  }
 ]
}