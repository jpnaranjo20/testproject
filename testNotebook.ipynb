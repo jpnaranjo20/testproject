{
 "metadata": {
  "language_info": {
   "codemirror_mode": {
    "name": "ipython",
    "version": 3
   },
   "file_extension": ".py",
   "mimetype": "text/x-python",
   "name": "python",
   "nbconvert_exporter": "python",
   "pygments_lexer": "ipython3",
   "version": "3.8.5-final"
  },
  "orig_nbformat": 2,
  "kernelspec": {
   "name": "python385jvsc74a57bd0b51aee39a9bf6411ca22e290371bcc8da2d664f21cb2f0026262689061f5b045",
   "display_name": "Python 3.8.5 32-bit"
  }
 },
 "nbformat": 4,
 "nbformat_minor": 2,
 "cells": [
  {
   "source": [
    "import numpy as np\n",
    "import matplotlib.pyplot as plt\n",
    "import pandas as pd"
   ],
   "cell_type": "code",
   "metadata": {},
   "execution_count": null,
   "outputs": []
  },
  {
   "cell_type": "code",
   "execution_count": null,
   "metadata": {},
   "outputs": [],
   "source": [
    "x = np.linspace(0,20,1000)\n",
    "y = np.sin(x)\n",
    "plt.plot(x,y)\n",
    "plt.grid()\n",
    "plt.title(\"$sin(x)$\")\n",
    "plt.xlabel('x')\n",
    "plt.ylabel('y')\n",
    "\n",
    "plt.scatter(np.pi, 0, c='blue')\n",
    "plt.scatter(2*np.pi, 0, c='blue')\n",
    "plt.scatter(3*np.pi, 0, c='blue')\n",
    "plt.scatter(4*np.pi, 0, c='blue')\n",
    "plt.scatter(5*np.pi, 0, c='blue')\n",
    "\n",
    "plt.annotate(\"$\\pi$\", (np.pi,0), textcoords=\"offset points\", xytext =(8,-10),ha=\"center\")\n",
    "\n",
    "plt.annotate(\"$2\\pi$\", (2*np.pi,0), textcoords=\"offset points\", xytext =(8,-10),ha=\"center\")\n",
    "\n",
    "plt.annotate(\"$3\\pi$\", (3*np.pi,0), textcoords=\"offset points\", xytext =(8,-10),ha=\"center\")\n",
    "\n",
    "plt.annotate(\"$4\\pi$\", (4*np.pi,0), textcoords=\"offset points\", xytext =(8,-10),ha=\"center\")\n",
    "\n",
    "plt.annotate(\"$5\\pi$\", (5*np.pi,0), textcoords=\"offset points\", xytext =(8,-10),ha=\"center\")"
   ]
  },
  {
   "cell_type": "code",
   "execution_count": null,
   "metadata": {},
   "outputs": [],
   "source": [
    "A = np.array([[3,1], [4,5]])\n",
    "print(A)\n",
    "\n",
    "xs = np.linspace(0,10,1000)\n",
    "ys = np.exp(xs)\n",
    "plt.plot(xs, ys)\n",
    "plt.savefig('exponential.png',facecolor='w')"
   ]
  },
  {
   "cell_type": "code",
   "execution_count": null,
   "metadata": {},
   "outputs": [],
   "source": [
    "x = np.linspace(0,10,1000)\n",
    "y = np.cos(x)\n",
    "\n",
    "plt.plot(x,y)\n",
    "plt.title(\"$cos(x)$\")\n",
    "plt.xlabel(\"x\")\n",
    "plt.ylabel(\"y\")\n",
    "plt.grid()"
   ]
  },
  {
   "cell_type": "code",
   "execution_count": 12,
   "metadata": {},
   "outputs": [],
   "source": [
    "import scipy.io\n",
    "mat = scipy.io.loadmat('markings/004_o_m_a_a.mat')\n",
    "mat2 = scipy.io.loadmat('markings/004_o_m_d_a.mat')\n",
    "\n",
    "mat['faceCoordinatesUnwarped']\n",
    "len(mat2['faceCoordinatesUnwarped'])"
   ]
  },
  {
   "cell_type": "code",
   "execution_count": 20,
   "metadata": {},
   "outputs": [],
   "source": [
    "import os\n",
    "\n",
    "dataDir = \"markings/\"\n",
    "mats = []\n",
    "for file in os.listdir( dataDir ) :\n",
    "    mats.append( scipy.io.loadmat( dataDir+file ) )"
   ]
  },
  {
   "cell_type": "code",
   "execution_count": 29,
   "metadata": {},
   "outputs": [
    {
     "output_type": "execute_result",
     "data": {
      "text/plain": [
       "array([[118.32734531, 204.67065868],\n",
       "       [ 98.08832335, 206.9246507 ],\n",
       "       [108.82135729, 203.73650382],\n",
       "       [119.55439122, 203.64111904],\n",
       "       [130.28742515, 203.73989951],\n",
       "       [141.02045908, 205.82784431],\n",
       "       [130.28742515, 207.39034625],\n",
       "       [119.55439122, 206.99696443],\n",
       "       [108.82135729, 208.92797609],\n",
       "       [219.14171657, 202.46706587],\n",
       "       [199.30938124, 206.32335329],\n",
       "       [209.3369511 , 200.94790345],\n",
       "       [219.36452096, 199.83383318],\n",
       "       [229.39209082, 200.55213518],\n",
       "       [239.41966068, 204.26097804],\n",
       "       [229.39209082, 205.29468099],\n",
       "       [219.36452096, 206.68226485],\n",
       "       [209.3369511 , 205.82656534],\n",
       "       [ 82.35300926, 192.38136574],\n",
       "       [ 98.7427662 , 184.387011  ],\n",
       "       [115.13252315, 184.44416245],\n",
       "       [131.52228009, 185.87976204],\n",
       "       [147.91203704, 195.14756944],\n",
       "       [131.52228009, 195.90820958],\n",
       "       [115.13252315, 193.86460102],\n",
       "       [ 98.7427662 , 194.71339735],\n",
       "       [193.00115741, 193.21122685],\n",
       "       [207.66203704, 184.56690226],\n",
       "       [222.32291667, 181.37727202],\n",
       "       [236.9837963 , 179.55128787],\n",
       "       [251.64467593, 187.40219907],\n",
       "       [236.9837963 , 189.51571427],\n",
       "       [222.32291667, 192.1162691 ],\n",
       "       [207.66203704, 193.29987921],\n",
       "       [170.8703125 , 207.390625  ],\n",
       "       [172.4359375 , 226.178125  ],\n",
       "       [172.4359375 , 237.659375  ],\n",
       "       [172.9578125 , 250.184375  ],\n",
       "       [156.2578125 , 214.175     ],\n",
       "       [153.1265625 , 224.6125    ],\n",
       "       [150.5171875 , 234.00625   ],\n",
       "       [139.50441696, 251.91784452],\n",
       "       [153.6484375 , 262.1875    ],\n",
       "       [172.8045977 , 272.21954023],\n",
       "       [190.7015625 , 260.1       ],\n",
       "       [204.4965625 , 249.4903125 ],\n",
       "       [197.4859375 , 236.09375   ],\n",
       "       [190.7015625 , 224.090625  ],\n",
       "       [187.5703125 , 214.696875  ],\n",
       "       [136.70429688, 299.61796875],\n",
       "       [149.9953125 , 288.803125  ],\n",
       "       [172.62773437, 290.09609375],\n",
       "       [194.3546875 , 286.19375   ],\n",
       "       [204.43945312, 298.75234375],\n",
       "       [190.1796875 , 310.721875  ],\n",
       "       [172.92695312, 312.88359375],\n",
       "       [150.5171875 , 312.809375  ],\n",
       "       [151.0390625 , 296.109375  ],\n",
       "       [173.13710937, 296.97109375],\n",
       "       [187.0484375 , 293.5       ],\n",
       "       [189.6578125 , 298.71875   ],\n",
       "       [173.62617187, 298.92734375],\n",
       "       [155.7359375 , 299.240625  ],\n",
       "       [ 57.91240046, 208.57337884],\n",
       "       [169.52110626, 371.23726346],\n",
       "       [272.85665529, 202.8668942 ],\n",
       "       [168.23777019, 112.51422071]])"
      ]
     },
     "metadata": {},
     "execution_count": 29
    }
   ],
   "source": [
    "mats[567]['faceCoordinatesUnwarped']"
   ]
  }
 ]
}